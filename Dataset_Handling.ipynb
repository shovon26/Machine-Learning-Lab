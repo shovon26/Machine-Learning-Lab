import pandas as pd
import numpy as np
import matplotlib.pyplot as plt

dataset = pd.read_csv('/home/shovon26/Desktop/ML_Lab/stores.csv')

dataset.head()

dataset.tail()

x = dataset.iloc[:,:-1].values

print(x)

#Encoding categorial Data
y= dataset.iloc[:,3].values

print(y)

dataset['Location'].unique()

Location_order = ['Delhi', 'Mumbai', 'Chennai', 'Kolkata']

#import Libraries
from sklearn.preprocessing import OrdinalEncoder

encode_data = OrdinalEncoder(categories = [Location_order])

encode_data.fit(dataset[['Location']])

final_encode = pd.DataFrame(encode_data.transform(dataset[['Location']]))

dataset['Location'] = final_encode

#Libraries
from sklearn.preprocessing import LabelEncoder

le = LabelEncoder()

dataset['StoreType'] = le.fit_transform(dataset['StoreType'])

dataset.head()

#Handling Missing Data
dataset.isnull()

dataset.isnull().sum()

dataset.dropna()  #Drop Null Attribute

#Filling with 0
dataset.fillna(0)

dataset['AcqCostPercust'].mean()

dataset.fillna({'AcqCostPercust' : 3.65})

#Splitting the Dataset into the Training set and Test set

from sklearn.model_selection import train_test_split  
x_train, x_test, y_train, y_test= train_test_split(x, y, test_size= 0.2, random_state=0)  

print(x_train)
print(x_test)
print(y_train)
print(y_test)

