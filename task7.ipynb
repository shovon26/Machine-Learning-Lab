{
 "cells": [
  {
   "cell_type": "code",
   "execution_count": 1,
   "metadata": {},
   "outputs": [],
   "source": [
    "import pandas as pd\n",
    "import numpy as np\n",
    "import matplotlib.pyplot as plt"
   ]
  },
  {
   "cell_type": "code",
   "execution_count": 2,
   "metadata": {},
   "outputs": [],
   "source": [
    "dataset = pd.read_csv('/home/shovon26/Desktop/ML_Lab/stores.csv')"
   ]
  },
  {
   "cell_type": "code",
   "execution_count": 3,
   "metadata": {},
   "outputs": [
    {
     "data": {
      "text/html": [
       "<div>\n",
       "<style scoped>\n",
       "    .dataframe tbody tr th:only-of-type {\n",
       "        vertical-align: middle;\n",
       "    }\n",
       "\n",
       "    .dataframe tbody tr th {\n",
       "        vertical-align: top;\n",
       "    }\n",
       "\n",
       "    .dataframe thead th {\n",
       "        text-align: right;\n",
       "    }\n",
       "</style>\n",
       "<table border=\"1\" class=\"dataframe\">\n",
       "  <thead>\n",
       "    <tr style=\"text-align: right;\">\n",
       "      <th></th>\n",
       "      <th>StoreCode</th>\n",
       "      <th>StoreName</th>\n",
       "      <th>StoreType</th>\n",
       "      <th>Location</th>\n",
       "      <th>OperatingCost</th>\n",
       "      <th>Staff_Cnt</th>\n",
       "      <th>TotalSales</th>\n",
       "      <th>Total_Customers</th>\n",
       "      <th>AcqCostPercust</th>\n",
       "      <th>BasketSize</th>\n",
       "      <th>ProfitPercust</th>\n",
       "      <th>OwnStore</th>\n",
       "      <th>OnlinePresence</th>\n",
       "      <th>Tenure</th>\n",
       "      <th>StoreSegment</th>\n",
       "    </tr>\n",
       "  </thead>\n",
       "  <tbody>\n",
       "    <tr>\n",
       "      <th>0</th>\n",
       "      <td>STR101</td>\n",
       "      <td>Electronics Zone</td>\n",
       "      <td>Electronincs</td>\n",
       "      <td>Delhi</td>\n",
       "      <td>21.0</td>\n",
       "      <td>60</td>\n",
       "      <td>160.0</td>\n",
       "      <td>110</td>\n",
       "      <td>3.90</td>\n",
       "      <td>2.620</td>\n",
       "      <td>16.46</td>\n",
       "      <td>0</td>\n",
       "      <td>1</td>\n",
       "      <td>4</td>\n",
       "      <td>4</td>\n",
       "    </tr>\n",
       "    <tr>\n",
       "      <th>1</th>\n",
       "      <td>STR102</td>\n",
       "      <td>Apparel Zone</td>\n",
       "      <td>Apparel</td>\n",
       "      <td>Delhi</td>\n",
       "      <td>21.0</td>\n",
       "      <td>60</td>\n",
       "      <td>160.0</td>\n",
       "      <td>110</td>\n",
       "      <td>3.90</td>\n",
       "      <td>2.875</td>\n",
       "      <td>17.02</td>\n",
       "      <td>0</td>\n",
       "      <td>1</td>\n",
       "      <td>4</td>\n",
       "      <td>4</td>\n",
       "    </tr>\n",
       "    <tr>\n",
       "      <th>2</th>\n",
       "      <td>STR103</td>\n",
       "      <td>Super Bazar</td>\n",
       "      <td>Super Market</td>\n",
       "      <td>Delhi</td>\n",
       "      <td>22.8</td>\n",
       "      <td>40</td>\n",
       "      <td>108.0</td>\n",
       "      <td>93</td>\n",
       "      <td>3.85</td>\n",
       "      <td>2.320</td>\n",
       "      <td>18.61</td>\n",
       "      <td>1</td>\n",
       "      <td>1</td>\n",
       "      <td>4</td>\n",
       "      <td>1</td>\n",
       "    </tr>\n",
       "    <tr>\n",
       "      <th>3</th>\n",
       "      <td>STR104</td>\n",
       "      <td>Super Market</td>\n",
       "      <td>Super Market</td>\n",
       "      <td>Delhi</td>\n",
       "      <td>21.4</td>\n",
       "      <td>60</td>\n",
       "      <td>258.0</td>\n",
       "      <td>110</td>\n",
       "      <td>3.08</td>\n",
       "      <td>3.215</td>\n",
       "      <td>19.44</td>\n",
       "      <td>1</td>\n",
       "      <td>0</td>\n",
       "      <td>3</td>\n",
       "      <td>1</td>\n",
       "    </tr>\n",
       "    <tr>\n",
       "      <th>4</th>\n",
       "      <td>STR105</td>\n",
       "      <td>Central Store</td>\n",
       "      <td>Super Market</td>\n",
       "      <td>Delhi</td>\n",
       "      <td>18.7</td>\n",
       "      <td>80</td>\n",
       "      <td>360.0</td>\n",
       "      <td>175</td>\n",
       "      <td>3.15</td>\n",
       "      <td>3.440</td>\n",
       "      <td>17.02</td>\n",
       "      <td>0</td>\n",
       "      <td>0</td>\n",
       "      <td>3</td>\n",
       "      <td>2</td>\n",
       "    </tr>\n",
       "  </tbody>\n",
       "</table>\n",
       "</div>"
      ],
      "text/plain": [
       "  StoreCode         StoreName     StoreType Location  OperatingCost  \\\n",
       "0    STR101  Electronics Zone  Electronincs    Delhi           21.0   \n",
       "1    STR102      Apparel Zone       Apparel    Delhi           21.0   \n",
       "2    STR103       Super Bazar  Super Market    Delhi           22.8   \n",
       "3    STR104      Super Market  Super Market    Delhi           21.4   \n",
       "4    STR105     Central Store  Super Market    Delhi           18.7   \n",
       "\n",
       "   Staff_Cnt  TotalSales  Total_Customers  AcqCostPercust  BasketSize  \\\n",
       "0         60       160.0              110            3.90       2.620   \n",
       "1         60       160.0              110            3.90       2.875   \n",
       "2         40       108.0               93            3.85       2.320   \n",
       "3         60       258.0              110            3.08       3.215   \n",
       "4         80       360.0              175            3.15       3.440   \n",
       "\n",
       "   ProfitPercust  OwnStore  OnlinePresence  Tenure  StoreSegment  \n",
       "0          16.46         0               1       4             4  \n",
       "1          17.02         0               1       4             4  \n",
       "2          18.61         1               1       4             1  \n",
       "3          19.44         1               0       3             1  \n",
       "4          17.02         0               0       3             2  "
      ]
     },
     "execution_count": 3,
     "metadata": {},
     "output_type": "execute_result"
    }
   ],
   "source": [
    "dataset.head()"
   ]
  },
  {
   "cell_type": "code",
   "execution_count": 11,
   "metadata": {},
   "outputs": [],
   "source": [
    "x = dataset.iloc[:,4:13].values  #independant variable"
   ]
  },
  {
   "cell_type": "code",
   "execution_count": 12,
   "metadata": {},
   "outputs": [
    {
     "data": {
      "text/plain": [
       "array([[ 21.   ,  60.   , 160.   , 110.   ,   3.9  ,   2.62 ,  16.46 ,\n",
       "          0.   ,   1.   ],\n",
       "       [ 21.   ,  60.   , 160.   , 110.   ,   3.9  ,   2.875,  17.02 ,\n",
       "          0.   ,   1.   ],\n",
       "       [ 22.8  ,  40.   , 108.   ,  93.   ,   3.85 ,   2.32 ,  18.61 ,\n",
       "          1.   ,   1.   ],\n",
       "       [ 21.4  ,  60.   , 258.   , 110.   ,   3.08 ,   3.215,  19.44 ,\n",
       "          1.   ,   0.   ],\n",
       "       [ 18.7  ,  80.   , 360.   , 175.   ,   3.15 ,   3.44 ,  17.02 ,\n",
       "          0.   ,   0.   ],\n",
       "       [ 18.1  ,  60.   , 225.   , 105.   ,   2.76 ,   3.46 ,  20.22 ,\n",
       "          1.   ,   0.   ],\n",
       "       [ 14.3  ,  80.   , 360.   , 245.   ,   3.21 ,   3.57 ,  15.84 ,\n",
       "          0.   ,   0.   ],\n",
       "       [ 24.4  ,  40.   , 146.7  ,  62.   ,   3.69 ,   3.19 ,  20.   ,\n",
       "          1.   ,   0.   ],\n",
       "       [ 22.8  ,  40.   , 140.8  ,  95.   ,   3.92 ,   3.15 ,  22.9  ,\n",
       "          1.   ,   0.   ],\n",
       "       [ 19.2  ,  60.   , 167.6  , 123.   ,   3.92 ,   3.44 ,  18.3  ,\n",
       "          1.   ,   0.   ],\n",
       "       [ 17.8  ,  60.   , 167.6  , 123.   ,   3.92 ,   3.44 ,  18.9  ,\n",
       "          1.   ,   0.   ],\n",
       "       [ 16.4  ,  80.   , 275.8  , 180.   ,     nan,   4.07 ,  17.4  ,\n",
       "          0.   ,   0.   ],\n",
       "       [ 17.3  ,  80.   , 275.8  , 180.   ,     nan,   3.73 ,  17.6  ,\n",
       "          0.   ,   0.   ],\n",
       "       [ 15.2  ,  80.   , 275.8  , 180.   ,     nan,   3.78 ,  18.   ,\n",
       "          0.   ,   0.   ],\n",
       "       [ 10.4  ,  80.   , 472.   , 205.   ,   2.93 ,   5.25 ,  17.98 ,\n",
       "          0.   ,   0.   ],\n",
       "       [ 10.4  ,  80.   , 460.   , 215.   ,   3.   ,   5.424,  17.82 ,\n",
       "          0.   ,   0.   ],\n",
       "       [ 14.7  ,  80.   , 440.   , 230.   ,   3.23 ,   5.345,  17.42 ,\n",
       "          0.   ,   0.   ],\n",
       "       [ 32.4  ,  40.   ,  78.7  ,  66.   ,   4.08 ,   2.2  ,  19.47 ,\n",
       "          1.   ,   1.   ],\n",
       "       [ 30.4  ,  40.   ,  75.7  ,  52.   ,   4.93 ,   1.615,  18.52 ,\n",
       "          1.   ,   1.   ],\n",
       "       [ 33.9  ,  40.   ,  71.1  ,  65.   ,   4.22 ,   1.835,  19.9  ,\n",
       "          1.   ,   1.   ],\n",
       "       [ 21.5  ,  40.   , 120.1  ,  97.   ,   3.7  ,   2.465,  20.01 ,\n",
       "          1.   ,   0.   ],\n",
       "       [ 15.5  ,  80.   , 318.   , 150.   ,   2.76 ,   3.52 ,  16.87 ,\n",
       "          0.   ,   0.   ],\n",
       "       [ 15.2  ,  80.   , 304.   , 150.   ,   3.15 ,   3.435,  17.3  ,\n",
       "          0.   ,   0.   ],\n",
       "       [ 13.3  ,  80.   , 350.   , 245.   ,   3.73 ,   3.84 ,  15.41 ,\n",
       "          0.   ,   0.   ],\n",
       "       [ 19.2  ,  80.   , 400.   , 175.   ,   3.08 ,   3.845,  17.05 ,\n",
       "          0.   ,   0.   ],\n",
       "       [ 27.3  ,  40.   ,  79.   ,  66.   ,   4.08 ,   1.935,  18.9  ,\n",
       "          1.   ,   1.   ],\n",
       "       [ 26.   ,  40.   , 120.3  ,  91.   ,   4.43 ,   2.14 ,  16.7  ,\n",
       "          0.   ,   1.   ],\n",
       "       [ 30.4  ,  40.   ,  95.1  , 113.   ,   3.77 ,   1.513,  16.9  ,\n",
       "          1.   ,   1.   ],\n",
       "       [ 15.8  ,  80.   , 351.   , 264.   ,   4.22 ,   3.17 ,  14.5  ,\n",
       "          0.   ,   1.   ],\n",
       "       [ 19.7  ,  60.   , 145.   , 175.   ,   3.62 ,   2.77 ,  15.5  ,\n",
       "          0.   ,   1.   ],\n",
       "       [ 15.   ,  80.   , 301.   , 335.   ,   3.54 ,   3.57 ,  14.6  ,\n",
       "          0.   ,   1.   ],\n",
       "       [ 21.4  ,  40.   , 121.   , 109.   ,   4.11 ,   2.78 ,  18.6  ,\n",
       "          1.   ,   1.   ]])"
      ]
     },
     "execution_count": 12,
     "metadata": {},
     "output_type": "execute_result"
    }
   ],
   "source": [
    "x"
   ]
  },
  {
   "cell_type": "code",
   "execution_count": 6,
   "metadata": {},
   "outputs": [],
   "source": [
    "y= dataset.iloc[:,14].values"
   ]
  },
  {
   "cell_type": "code",
   "execution_count": 7,
   "metadata": {},
   "outputs": [
    {
     "data": {
      "text/plain": [
       "array([4, 4, 1, 1, 2, 1, 4, 2, 2, 4, 4, 3, 3, 3, 4, 4, 4, 1, 2, 1, 1, 2,\n",
       "       2, 4, 2, 1, 2, 2, 4, 4, 4, 2])"
      ]
     },
     "execution_count": 7,
     "metadata": {},
     "output_type": "execute_result"
    }
   ],
   "source": [
    "y"
   ]
  },
  {
   "cell_type": "markdown",
   "metadata": {},
   "source": [
    "# MIN MAX SCALER"
   ]
  },
  {
   "cell_type": "code",
   "execution_count": 8,
   "metadata": {},
   "outputs": [],
   "source": [
    "from sklearn.preprocessing import MinMaxScaler"
   ]
  },
  {
   "cell_type": "code",
   "execution_count": 9,
   "metadata": {},
   "outputs": [],
   "source": [
    "MMS = MinMaxScaler(feature_range =(0, 1))"
   ]
  },
  {
   "cell_type": "code",
   "execution_count": 13,
   "metadata": {},
   "outputs": [],
   "source": [
    "x_after_min_max_scaler = MMS.fit_transform(x)"
   ]
  },
  {
   "cell_type": "code",
   "execution_count": 14,
   "metadata": {},
   "outputs": [
    {
     "data": {
      "text/plain": [
       "array([[0.45106383, 0.5       , 0.22175106, 0.204947  , 0.52534562,\n",
       "        0.28304781, 0.23333333, 0.        , 1.        ],\n",
       "       [0.45106383, 0.5       , 0.22175106, 0.204947  , 0.52534562,\n",
       "        0.34824853, 0.3       , 0.        , 1.        ],\n",
       "       [0.52765957, 0.        , 0.0920429 , 0.14487633, 0.50230415,\n",
       "        0.20634109, 0.48928571, 1.        , 1.        ],\n",
       "       [0.46808511, 0.5       , 0.46620105, 0.204947  , 0.14746544,\n",
       "        0.43518282, 0.58809524, 1.        , 0.        ],\n",
       "       [0.35319149, 1.        , 0.72062859, 0.43462898, 0.1797235 ,\n",
       "        0.49271286, 0.3       , 0.        , 0.        ],\n",
       "       [0.32765957, 0.5       , 0.38388626, 0.18727915, 0.        ,\n",
       "        0.49782664, 0.68095238, 1.        , 0.        ],\n",
       "       [0.16595745, 1.        , 0.72062859, 0.6819788 , 0.20737327,\n",
       "        0.52595244, 0.15952381, 0.        , 0.        ],\n",
       "       [0.59574468, 0.        , 0.1885757 , 0.03533569, 0.42857143,\n",
       "        0.42879059, 0.6547619 , 1.        , 0.        ],\n",
       "       [0.52765957, 0.        , 0.17385882, 0.15194346, 0.53456221,\n",
       "        0.41856303, 1.        , 1.        , 0.        ],\n",
       "       [0.37446809, 0.5       , 0.24070841, 0.25088339, 0.53456221,\n",
       "        0.49271286, 0.45238095, 1.        , 0.        ],\n",
       "       [0.31489362, 0.5       , 0.24070841, 0.25088339, 0.53456221,\n",
       "        0.49271286, 0.52380952, 1.        , 0.        ],\n",
       "       [0.25531915, 1.        , 0.51060115, 0.45229682,        nan,\n",
       "        0.65379698, 0.3452381 , 0.        , 0.        ],\n",
       "       [0.29361702, 1.        , 0.51060115, 0.45229682,        nan,\n",
       "        0.56686269, 0.36904762, 0.        , 0.        ],\n",
       "       [0.20425532, 1.        , 0.51060115, 0.45229682,        nan,\n",
       "        0.57964715, 0.41666667, 0.        , 0.        ],\n",
       "       [0.        , 1.        , 1.        , 0.54063604, 0.07834101,\n",
       "        0.9555101 , 0.41428571, 0.        , 0.        ],\n",
       "       [0.        , 1.        , 0.97006735, 0.57597173, 0.11059908,\n",
       "        1.        , 0.3952381 , 0.        , 0.        ],\n",
       "       [0.18297872, 1.        , 0.9201796 , 0.62897527, 0.21658986,\n",
       "        0.97980056, 0.34761905, 0.        , 0.        ],\n",
       "       [0.93617021, 0.        , 0.01895735, 0.04946996, 0.60829493,\n",
       "        0.1756584 , 0.59166667, 1.        , 1.        ],\n",
       "       [0.85106383, 0.        , 0.01147418, 0.        , 1.        ,\n",
       "        0.02608029, 0.47857143, 1.        , 1.        ],\n",
       "       [1.        , 0.        , 0.        , 0.0459364 , 0.67281106,\n",
       "        0.08233188, 0.64285714, 1.        , 1.        ],\n",
       "       [0.47234043, 0.        , 0.12222499, 0.1590106 , 0.43317972,\n",
       "        0.24341601, 0.65595238, 1.        , 0.        ],\n",
       "       [0.21702128, 1.        , 0.61586431, 0.34628975, 0.        ,\n",
       "        0.51316799, 0.28214286, 0.        , 0.        ],\n",
       "       [0.20425532, 1.        , 0.58094288, 0.34628975, 0.1797235 ,\n",
       "        0.49143442, 0.33333333, 0.        , 0.        ],\n",
       "       [0.12340426, 1.        , 0.69568471, 0.6819788 , 0.44700461,\n",
       "        0.59498849, 0.10833333, 0.        , 0.        ],\n",
       "       [0.37446809, 1.        , 0.82040409, 0.43462898, 0.14746544,\n",
       "        0.59626694, 0.30357143, 0.        , 0.        ],\n",
       "       [0.71914894, 0.        , 0.01970566, 0.04946996, 0.60829493,\n",
       "        0.10790079, 0.52380952, 1.        , 1.        ],\n",
       "       [0.66382979, 0.        , 0.12272387, 0.13780919, 0.76958525,\n",
       "        0.16031705, 0.26190476, 0.        , 1.        ],\n",
       "       [0.85106383, 0.        , 0.0598653 , 0.2155477 , 0.46543779,\n",
       "        0.        , 0.28571429, 1.        , 1.        ],\n",
       "       [0.22978723, 1.        , 0.6981791 , 0.74911661, 0.67281106,\n",
       "        0.42367681, 0.        , 0.        , 1.        ],\n",
       "       [0.39574468, 0.5       , 0.18433525, 0.43462898, 0.39631336,\n",
       "        0.32140118, 0.11904762, 0.        , 1.        ],\n",
       "       [0.19574468, 1.        , 0.57345972, 1.        , 0.359447  ,\n",
       "        0.52595244, 0.01190476, 0.        , 1.        ],\n",
       "       [0.46808511, 0.        , 0.12446994, 0.20141343, 0.62211982,\n",
       "        0.32395807, 0.48809524, 1.        , 1.        ]])"
      ]
     },
     "execution_count": 14,
     "metadata": {},
     "output_type": "execute_result"
    }
   ],
   "source": [
    "x_after_min_max_scaler"
   ]
  },
  {
   "cell_type": "markdown",
   "metadata": {},
   "source": [
    "# Standardisation"
   ]
  },
  {
   "cell_type": "code",
   "execution_count": 15,
   "metadata": {},
   "outputs": [],
   "source": [
    "from sklearn.preprocessing import StandardScaler"
   ]
  },
  {
   "cell_type": "code",
   "execution_count": 19,
   "metadata": {},
   "outputs": [],
   "source": [
    "standardisation = StandardScaler()"
   ]
  },
  {
   "cell_type": "code",
   "execution_count": 20,
   "metadata": {},
   "outputs": [],
   "source": [
    "x_after_Standardisation = standardisation.fit_transform(x)"
   ]
  },
  {
   "cell_type": "code",
   "execution_count": 21,
   "metadata": {},
   "outputs": [
    {
     "data": {
      "text/plain": [
       "array([[ 1.53299135e-01, -1.06667720e-01, -5.79750316e-01,\n",
       "        -5.43654869e-01,  4.75670000e-01, -6.20166581e-01,\n",
       "        -7.89600577e-01, -8.81917104e-01,  1.20894105e+00],\n",
       "       [ 1.53299135e-01, -1.06667720e-01, -5.79750316e-01,\n",
       "        -5.43654869e-01,  4.75670000e-01, -3.55382189e-01,\n",
       "        -4.71201785e-01, -8.81917104e-01,  1.20894105e+00],\n",
       "       [ 4.56736599e-01, -1.24445674e+00, -1.00602601e+00,\n",
       "        -7.95569902e-01,  3.80140707e-01, -9.31677630e-01,\n",
       "         4.32823359e-01,  1.13389342e+00,  1.20894105e+00],\n",
       "       [ 2.20729683e-01, -1.06667720e-01,  2.23615417e-01,\n",
       "        -5.43654869e-01, -1.09101042e+00, -2.33633287e-03,\n",
       "         9.04735855e-01,  1.13389342e+00, -8.27170192e-01],\n",
       "       [-2.34426513e-01,  1.03112130e+00,  1.05977159e+00,\n",
       "         4.19549669e-01, -9.57269405e-01,  2.31296954e-01,\n",
       "        -4.71201785e-01, -8.81917104e-01, -8.27170192e-01],\n",
       "       [-3.35572334e-01, -1.06667720e-01, -4.69056970e-02,\n",
       "        -6.17747526e-01, -1.70239790e+00,  2.52064357e-01,\n",
       "         1.34821989e+00,  1.13389342e+00, -8.27170192e-01],\n",
       "       [-9.76162534e-01,  1.03112130e+00,  1.05977159e+00,\n",
       "         1.45684686e+00, -8.42634253e-01,  3.66285076e-01,\n",
       "        -1.14211353e+00, -8.81917104e-01, -8.27170192e-01],\n",
       "       [ 7.26458788e-01, -1.24445674e+00, -6.88778522e-01,\n",
       "        -1.25494437e+00,  7.44469668e-02, -2.82955870e-02,\n",
       "         1.22313465e+00,  1.13389342e+00, -8.27170192e-01],\n",
       "       [ 4.56736599e-01, -1.24445674e+00, -7.37144418e-01,\n",
       "        -7.65932839e-01,  5.13881718e-01, -6.98303936e-02,\n",
       "         2.87198554e+00,  1.13389342e+00, -8.27170192e-01],\n",
       "       [-1.50138328e-01, -1.06667720e-01, -5.17448483e-01,\n",
       "        -3.51013961e-01,  5.13881718e-01,  2.31296954e-01,\n",
       "         2.56566884e-01,  1.13389342e+00, -8.27170192e-01],\n",
       "       [-3.86145244e-01, -1.06667720e-01, -5.17448483e-01,\n",
       "        -3.51013961e-01,  5.13881718e-01,  2.31296954e-01,\n",
       "         5.97708448e-01,  1.13389342e+00, -8.27170192e-01],\n",
       "       [-6.22152160e-01,  1.03112130e+00,  3.69532866e-01,\n",
       "         4.93642326e-01,             nan,  8.85470158e-01,\n",
       "        -2.55145461e-01, -8.81917104e-01, -8.27170192e-01],\n",
       "       [-4.70433428e-01,  1.03112130e+00,  3.69532866e-01,\n",
       "         4.93642326e-01,             nan,  5.32424302e-01,\n",
       "        -1.41431607e-01, -8.81917104e-01, -8.27170192e-01],\n",
       "       [-8.24443802e-01,  1.03112130e+00,  3.69532866e-01,\n",
       "         4.93642326e-01,             nan,  5.84342810e-01,\n",
       "         8.59961025e-02, -8.81917104e-01, -8.27170192e-01],\n",
       "       [-1.63361037e+00,  1.03112130e+00,  1.97790385e+00,\n",
       "         8.64105609e-01, -1.37759830e+00,  2.11074695e+00,\n",
       "         7.46247170e-02, -8.81917104e-01, -8.27170192e-01],\n",
       "       [-1.63361037e+00,  1.03112130e+00,  1.87953254e+00,\n",
       "         1.01229092e+00, -1.24385729e+00,  2.29142336e+00,\n",
       "        -1.63463666e-02, -8.81917104e-01, -8.27170192e-01],\n",
       "       [-9.08731987e-01,  1.03112130e+00,  1.71558035e+00,\n",
       "         1.23456889e+00, -8.04422535e-01,  2.20939212e+00,\n",
       "        -2.43774076e-01, -8.81917104e-01, -8.27170192e-01],\n",
       "       [ 2.07506974e+00, -1.24445674e+00, -1.24621597e+00,\n",
       "        -1.19567025e+00,  8.19575458e-01, -1.05628205e+00,\n",
       "         9.21792933e-01,  1.13389342e+00,  1.20894105e+00],\n",
       "       [ 1.73791700e+00, -1.24445674e+00, -1.27080880e+00,\n",
       "        -1.40312969e+00,  2.44357345e+00, -1.66372860e+00,\n",
       "         3.81652124e-01,  1.13389342e+00,  1.20894105e+00],\n",
       "       [ 2.32793429e+00, -1.24445674e+00, -1.30851780e+00,\n",
       "        -1.21048878e+00,  1.08705748e+00, -1.43528716e+00,\n",
       "         1.16627772e+00,  1.13389342e+00,  1.20894105e+00],\n",
       "       [ 2.37587319e-01, -1.24445674e+00, -9.06834935e-01,\n",
       "        -7.36295776e-01,  9.35528256e-02, -7.81113956e-01,\n",
       "         1.22882034e+00,  1.13389342e+00, -8.27170192e-01],\n",
       "       [-7.73870892e-01,  1.03112130e+00,  7.15471988e-01,\n",
       "         4.90863851e-02, -1.70239790e+00,  3.14366567e-01,\n",
       "        -5.56487176e-01, -8.81917104e-01, -8.27170192e-01],\n",
       "       [-8.24443802e-01,  1.03112130e+00,  6.00705455e-01,\n",
       "         4.90863851e-02, -9.57269405e-01,  2.26105103e-01,\n",
       "        -3.12002388e-01, -8.81917104e-01, -8.27170192e-01],\n",
       "       [-1.14473890e+00,  1.03112130e+00,  9.77795493e-01,\n",
       "         1.45684686e+00,  1.50870402e-01,  6.46645020e-01,\n",
       "        -1.38659831e+00, -8.81917104e-01, -8.27170192e-01],\n",
       "       [-1.50138328e-01,  1.03112130e+00,  1.38767597e+00,\n",
       "         4.19549669e-01, -1.09101042e+00,  6.51836871e-01,\n",
       "        -4.54144707e-01, -8.81917104e-01, -8.27170192e-01],\n",
       "       [ 1.21533026e+00, -1.24445674e+00, -1.24375669e+00,\n",
       "        -1.19567025e+00,  8.19575458e-01, -1.33145014e+00,\n",
       "         5.97708448e-01,  1.13389342e+00,  1.20894105e+00],\n",
       "       [ 9.96180978e-01, -1.24445674e+00, -9.05195413e-01,\n",
       "        -8.25206964e-01,  1.48828051e+00, -1.11858426e+00,\n",
       "        -6.53143952e-01, -8.81917104e-01,  1.20894105e+00],\n",
       "       [ 1.73791700e+00, -1.24445674e+00, -1.11177517e+00,\n",
       "        -4.99199275e-01,  2.27293837e-01, -1.76964235e+00,\n",
       "        -5.39430097e-01,  1.13389342e+00,  1.20894105e+00],\n",
       "       [-7.23297981e-01,  1.03112130e+00,  9.85993102e-01,\n",
       "         1.73839896e+00,  1.08705748e+00, -4.90629903e-02,\n",
       "        -1.90399635e+00, -8.81917104e-01,  1.20894105e+00],\n",
       "       [-6.58501440e-02, -1.06667720e-01, -7.02714458e-01,\n",
       "         4.19549669e-01, -5.92940444e-02, -4.64411056e-01,\n",
       "        -1.33542708e+00, -8.81917104e-01,  1.20894105e+00],\n",
       "       [-8.58159076e-01,  1.03112130e+00,  5.76112626e-01,\n",
       "         2.79051468e+00, -2.12140914e-01,  3.66285076e-01,\n",
       "        -1.84713942e+00, -8.81917104e-01,  1.20894105e+00],\n",
       "       [ 2.20729683e-01, -1.24445674e+00, -8.99457087e-01,\n",
       "        -5.58473400e-01,  8.76893034e-01, -4.54027354e-01,\n",
       "         4.27137666e-01,  1.13389342e+00,  1.20894105e+00]])"
      ]
     },
     "execution_count": 21,
     "metadata": {},
     "output_type": "execute_result"
    }
   ],
   "source": [
    "x_after_Standardisation"
   ]
  },
  {
   "cell_type": "markdown",
   "metadata": {},
   "source": [
    "# Correlation Matrix"
   ]
  },
  {
   "cell_type": "code",
   "execution_count": 27,
   "metadata": {},
   "outputs": [],
   "source": [
    "x = dataset.iloc[:,12:13].values"
   ]
  },
  {
   "cell_type": "code",
   "execution_count": 28,
   "metadata": {},
   "outputs": [
    {
     "data": {
      "text/plain": [
       "array([[1],\n",
       "       [1],\n",
       "       [1],\n",
       "       [0],\n",
       "       [0],\n",
       "       [0],\n",
       "       [0],\n",
       "       [0],\n",
       "       [0],\n",
       "       [0],\n",
       "       [0],\n",
       "       [0],\n",
       "       [0],\n",
       "       [0],\n",
       "       [0],\n",
       "       [0],\n",
       "       [0],\n",
       "       [1],\n",
       "       [1],\n",
       "       [1],\n",
       "       [0],\n",
       "       [0],\n",
       "       [0],\n",
       "       [0],\n",
       "       [0],\n",
       "       [1],\n",
       "       [1],\n",
       "       [1],\n",
       "       [1],\n",
       "       [1],\n",
       "       [1],\n",
       "       [1]])"
      ]
     },
     "execution_count": 28,
     "metadata": {},
     "output_type": "execute_result"
    }
   ],
   "source": [
    "x"
   ]
  },
  {
   "cell_type": "code",
   "execution_count": 30,
   "metadata": {},
   "outputs": [],
   "source": [
    "y = dataset.iloc[:,13:14].values"
   ]
  },
  {
   "cell_type": "code",
   "execution_count": 31,
   "metadata": {},
   "outputs": [
    {
     "data": {
      "text/plain": [
       "array([[4],\n",
       "       [4],\n",
       "       [4],\n",
       "       [3],\n",
       "       [3],\n",
       "       [3],\n",
       "       [3],\n",
       "       [4],\n",
       "       [4],\n",
       "       [4],\n",
       "       [4],\n",
       "       [3],\n",
       "       [3],\n",
       "       [3],\n",
       "       [3],\n",
       "       [3],\n",
       "       [3],\n",
       "       [4],\n",
       "       [4],\n",
       "       [4],\n",
       "       [3],\n",
       "       [3],\n",
       "       [3],\n",
       "       [3],\n",
       "       [3],\n",
       "       [4],\n",
       "       [5],\n",
       "       [5],\n",
       "       [5],\n",
       "       [5],\n",
       "       [5],\n",
       "       [4]])"
      ]
     },
     "execution_count": 31,
     "metadata": {},
     "output_type": "execute_result"
    }
   ],
   "source": [
    "y"
   ]
  },
  {
   "cell_type": "code",
   "execution_count": 32,
   "metadata": {},
   "outputs": [
    {
     "name": "stderr",
     "output_type": "stream",
     "text": [
      "/usr/lib/python3/dist-packages/numpy/lib/function_base.py:2526: RuntimeWarning: Degrees of freedom <= 0 for slice\n",
      "  c = cov(x, y, rowvar)\n",
      "/usr/lib/python3/dist-packages/numpy/lib/function_base.py:2455: RuntimeWarning: divide by zero encountered in true_divide\n",
      "  c *= np.true_divide(1, fact)\n",
      "/usr/lib/python3/dist-packages/numpy/lib/function_base.py:2455: RuntimeWarning: invalid value encountered in multiply\n",
      "  c *= np.true_divide(1, fact)\n"
     ]
    }
   ],
   "source": [
    "matrix = np.corrcoef(x, y)"
   ]
  },
  {
   "cell_type": "code",
   "execution_count": 33,
   "metadata": {},
   "outputs": [
    {
     "data": {
      "text/plain": [
       "array([[nan, nan, nan, ..., nan, nan, nan],\n",
       "       [nan, nan, nan, ..., nan, nan, nan],\n",
       "       [nan, nan, nan, ..., nan, nan, nan],\n",
       "       ...,\n",
       "       [nan, nan, nan, ..., nan, nan, nan],\n",
       "       [nan, nan, nan, ..., nan, nan, nan],\n",
       "       [nan, nan, nan, ..., nan, nan, nan]])"
      ]
     },
     "execution_count": 33,
     "metadata": {},
     "output_type": "execute_result"
    }
   ],
   "source": [
    "matrix"
   ]
  },
  {
   "cell_type": "code",
   "execution_count": 34,
   "metadata": {},
   "outputs": [],
   "source": [
    "X = [4, 1, 3, 6, 5],\n",
    "\n",
    "Y = [1, 5, 5, 3, 6]"
   ]
  },
  {
   "cell_type": "code",
   "execution_count": 35,
   "metadata": {},
   "outputs": [],
   "source": [
    "matrix = np.corrcoef(X, Y)"
   ]
  },
  {
   "cell_type": "code",
   "execution_count": 36,
   "metadata": {},
   "outputs": [
    {
     "data": {
      "text/plain": [
       "array([[ 1.        , -0.25993762],\n",
       "       [-0.25993762,  1.        ]])"
      ]
     },
     "execution_count": 36,
     "metadata": {},
     "output_type": "execute_result"
    }
   ],
   "source": [
    "matrix"
   ]
  },
  {
   "cell_type": "code",
   "execution_count": 38,
   "metadata": {},
   "outputs": [
    {
     "data": {
      "text/plain": [
       "Text(0, 0.5, 'y axis')"
      ]
     },
     "execution_count": 38,
     "metadata": {},
     "output_type": "execute_result"
    },
    {
     "data": {
      "image/png": "[encoded data removed]",
      "text/plain": [
       "<Figure size 432x288 with 1 Axes>"
      ]
     },
     "metadata": {
      "needs_background": "light"
     },
     "output_type": "display_data"
    }
   ],
   "source": [
    "plt.title('Correlation')\n",
    "  \n",
    "# plot the data\n",
    "plt.scatter(X, Y)\n",
    "  \n",
    "# fits the best fitting line to the data\n",
    "plt.plot((np.unique(X)), color='red')\n",
    "  \n",
    "# Labelling axes\n",
    "plt.xlabel('x axis')\n",
    "plt.ylabel('y axis')"
   ]
  },
  {
   "cell_type": "code",
   "execution_count": 40,
   "metadata": {},
   "outputs": [
    {
     "data": {
      "text/plain": [
       "StoreCode          0\n",
       "StoreName          0\n",
       "StoreType          0\n",
       "Location           0\n",
       "OperatingCost      0\n",
       "Staff_Cnt          0\n",
       "TotalSales         0\n",
       "Total_Customers    0\n",
       "AcqCostPercust     3\n",
       "BasketSize         0\n",
       "ProfitPercust      0\n",
       "OwnStore           0\n",
       "OnlinePresence     0\n",
       "Tenure             0\n",
       "StoreSegment       0\n",
       "dtype: int64"
      ]
     },
     "execution_count": 40,
     "metadata": {},
     "output_type": "execute_result"
    }
   ],
   "source": [
    "dataset.isnull().sum()"
   ]
  },
  {
   "cell_type": "code",
   "execution_count": null,
   "metadata": {},
   "outputs": [],
   "source": []
  }
 ],
 "metadata": {
  "kernelspec": {
   "display_name": "Python 3",
   "language": "python",
   "name": "python3"
  },
  "language_info": {
   "codemirror_mode": {
    "name": "ipython",
    "version": 3
   },
   "file_extension": ".py",
   "mimetype": "text/x-python",
   "name": "python",
   "nbconvert_exporter": "python",
   "pygments_lexer": "ipython3",
   "version": "3.8.10"
  }
 },
 "nbformat": 4,
 "nbformat_minor": 4
}
